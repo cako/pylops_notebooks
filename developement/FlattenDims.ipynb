{
 "cells": [
  {
   "cell_type": "code",
   "execution_count": 1,
   "metadata": {},
   "outputs": [],
   "source": [
    "import pylops\n",
    "import numpy as np\n"
   ]
  },
  {
   "cell_type": "code",
   "execution_count": 2,
   "metadata": {},
   "outputs": [
    {
     "name": "stdout",
     "output_type": "stream",
     "text": [
      "S.shape: (30, 20)\n",
      "d.shape: (2, 10)\n"
     ]
    }
   ],
   "source": [
    "nx, nt = 2, 10\n",
    "dims = (nx, nt)\n",
    "\n",
    "S = pylops.basicoperators.Symmetrize(dims, axis=0)\n",
    "d = np.ones(dims)\n",
    "\n",
    "print(\"S.shape:\", S.shape)\n",
    "print(\"d.shape:\", d.shape)"
   ]
  },
  {
   "cell_type": "code",
   "execution_count": 3,
   "metadata": {},
   "outputs": [
    {
     "name": "stdout",
     "output_type": "stream",
     "text": [
      "y_flat.shape: (30, 1)\n",
      "y_resh.shape: (3, 10)\n"
     ]
    }
   ],
   "source": [
    "y_flat = S * np.expand_dims(d.flatten(), axis=-1)\n",
    "y_resh = S * d\n",
    "\n",
    "print(\"y_flat.shape:\", y_flat.shape)\n",
    "print(\"y_resh.shape:\", y_resh.shape)"
   ]
  },
  {
   "cell_type": "code",
   "execution_count": 4,
   "metadata": {},
   "outputs": [],
   "source": [
    "dims_in_arr = [\n",
    "    (nx * nt, 20),\n",
    "    (nx * nt * 20,),\n",
    "    (nx, nt, 20),\n",
    "    (nx, nt),\n",
    "    (nx, nt, 1),\n",
    "    (nx * nt,),\n",
    "    (nx * nt, 1),\n",
    "]\n",
    "dims_out_arr = [\n",
    "    ((2 * nx - 1) * nt, 20),\n",
    "    ((2 * nx - 1) * nt * 20,),\n",
    "    ((2 * nx - 1), nt, 20),\n",
    "    ((2 * nx - 1), nt),\n",
    "    ((2 * nx - 1), nt, 1),\n",
    "    ((2 * nx - 1) * nt,),\n",
    "    ((2 * nx - 1) * nt, 1),\n",
    "]\n",
    "should_error_arr = [False, True, True, False, True, False, False]\n"
   ]
  },
  {
   "cell_type": "code",
   "execution_count": 5,
   "metadata": {},
   "outputs": [
    {
     "name": "stdout",
     "output_type": "stream",
     "text": [
      "     dims   |    dimsd   | expected dimsd | correct?\n",
      "===============================================\n",
      "   (20, 20) |   (30, 20) |     (30, 20)   | ✓\n",
      "     (400,) |    error   |       error    | ✓\n",
      "(2, 10, 20) |    error   |       error    | ✓\n",
      "    (2, 10) |    (3, 10) |      (3, 10)   | ✓\n",
      " (2, 10, 1) |    error   |       error    | ✓\n",
      "      (20,) |      (30,) |        (30,)   | ✓\n",
      "    (20, 1) |    (30, 1) |      (30, 1)   | ✓\n"
     ]
    }
   ],
   "source": [
    "print(\"     dims   |    dimsd   | expected dimsd | correct?\")\n",
    "print(\"===============================================\")\n",
    "for dims, dims_out, err in zip(dims_in_arr, dims_out_arr, should_error_arr):\n",
    "    print(f\"{str(dims):>11} | \", end=\"\")\n",
    "    try:\n",
    "        y = S * np.ones(dims)\n",
    "        correct = \"✓\" if y.shape == dims_out and not err else \"✗\"\n",
    "        if err:\n",
    "            print(f\"{str(y.shape):>10} |       error    | {correct}\")\n",
    "        else:\n",
    "            print(f\"{str(y.shape):>10} |   {str(dims_out):>10}   | {correct}\")\n",
    "    except:\n",
    "        correct = \"✓\" if err else \"✗\"\n",
    "        if err:\n",
    "            print(f\"   error   |       error    | {correct}\")\n",
    "        else:\n",
    "            print(f\"{str(y.shape):>10} |   {str(dims_out):>10}   | {correct}\")\n"
   ]
  },
  {
   "cell_type": "code",
   "execution_count": 6,
   "metadata": {},
   "outputs": [
    {
     "data": {
      "text/plain": [
       "(2, 10)"
      ]
     },
     "execution_count": 6,
     "metadata": {},
     "output_type": "execute_result"
    }
   ],
   "source": [
    "S.dims"
   ]
  },
  {
   "cell_type": "code",
   "execution_count": 7,
   "metadata": {},
   "outputs": [
    {
     "ename": "AttributeError",
     "evalue": "'LinearOperator' object has no attribute 'dims'",
     "output_type": "error",
     "traceback": [
      "\u001b[0;31m---------------------------------------------------------------------------\u001b[0m",
      "\u001b[0;31mAttributeError\u001b[0m                            Traceback (most recent call last)",
      "\u001b[0;32m/tmp/ipykernel_958405/3888362912.py\u001b[0m in \u001b[0;36m<module>\u001b[0;34m\u001b[0m\n\u001b[0;32m----> 1\u001b[0;31m \u001b[0mS\u001b[0m\u001b[0;34m.\u001b[0m\u001b[0mT\u001b[0m\u001b[0;34m.\u001b[0m\u001b[0mdims\u001b[0m\u001b[0;34m\u001b[0m\u001b[0;34m\u001b[0m\u001b[0m\n\u001b[0m",
      "\u001b[0;31mAttributeError\u001b[0m: 'LinearOperator' object has no attribute 'dims'"
     ]
    }
   ],
   "source": [
    "S.T.dims"
   ]
  },
  {
   "cell_type": "code",
   "execution_count": 9,
   "metadata": {},
   "outputs": [
    {
     "name": "stdout",
     "output_type": "stream",
     "text": [
      "\u001b[0;31mSignature:\u001b[0m \u001b[0mS\u001b[0m\u001b[0;34m.\u001b[0m\u001b[0m_matvec\u001b[0m\u001b[0;34m(\u001b[0m\u001b[0mx\u001b[0m\u001b[0;34m)\u001b[0m\u001b[0;34m\u001b[0m\u001b[0;34m\u001b[0m\u001b[0m\n",
      "\u001b[0;31mDocstring:\u001b[0m\n",
      "Default matrix-vector multiplication handler.\n",
      "\n",
      "If self is a linear operator of shape (M, N), then this method will\n",
      "be called on a shape (N,) or (N, 1) ndarray, and should return a\n",
      "shape (M,) or (M, 1) ndarray.\n",
      "\n",
      "This default implementation falls back on _matmat, so defining that\n",
      "will define matrix-vector multiplication as well.\n",
      "\u001b[0;31mFile:\u001b[0m      ~/Coding/python/pylops/pylops/basicoperators/Symmetrize.py\n",
      "\u001b[0;31mType:\u001b[0m      method\n"
     ]
    }
   ],
   "source": [
    "?S._matvec"
   ]
  },
  {
   "cell_type": "code",
   "execution_count": null,
   "metadata": {},
   "outputs": [],
   "source": []
  }
 ],
 "metadata": {
  "interpreter": {
   "hash": "f5d572b5e37a684201a54b641023044f5d15966e7d607eb4829270e93c0e5e85"
  },
  "kernelspec": {
   "display_name": "Python 3.8.10 ('venv': venv)",
   "language": "python",
   "name": "python3"
  },
  "language_info": {
   "codemirror_mode": {
    "name": "ipython",
    "version": 3
   },
   "file_extension": ".py",
   "mimetype": "text/x-python",
   "name": "python",
   "nbconvert_exporter": "python",
   "pygments_lexer": "ipython3",
   "version": "3.8.10"
  },
  "orig_nbformat": 4
 },
 "nbformat": 4,
 "nbformat_minor": 2
}
